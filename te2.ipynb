{
 "cells": [
  {
   "cell_type": "code",
   "execution_count": 3,
   "metadata": {},
   "outputs": [
    {
     "name": "stdout",
     "output_type": "stream",
     "text": [
      "Hello!Mr. 少年,徐國堂!\n",
      "Hello! 中年,robert!\n",
      "Hello!Ms. 壯年,jenny!\n",
      "Hello!Ms. 老年,alice!\n"
     ]
    }
   ],
   "source": [
    "def sayHello(name,age,is_male=None):\n",
    "    if is_male is None:\n",
    "        prefix=\"\"\n",
    "    elif is_male:\n",
    "        prefix=\"Mr.\"\n",
    "    else:\n",
    "        prefix=\"Ms.\"\n",
    "\n",
    "    if age<18:\n",
    "        alias = \"少年\"\n",
    "    elif age < 30:\n",
    "        alias = \"中年\"\n",
    "    elif age < 50:\n",
    "        alias = \"壯年\"\n",
    "    else:\n",
    "        alias = \"老年\"\n",
    "    \n",
    "    print(f'Hello!{prefix} {alias},{name}!')\n",
    "    #print(f'Hello!{prefix,alias}:{name}!')\n",
    "\n",
    "#引數值的呼叫要依順序\n",
    "sayHello(\"徐國堂\",13,is_male=True)\n",
    "sayHello(\"robert\",25)\n",
    "sayHello(\"jenny\",45,is_male=False)\n",
    "sayHello(\"alice\",65,is_male=False)"
   ]
  },
  {
   "cell_type": "code",
   "execution_count": 2,
   "metadata": {},
   "outputs": [],
   "source": [
    "#袋檢查\n",
    "\n",
    "import random\n",
    "import pyinputplus as pyip\n",
    "def playGame():\n",
    "\n",
    "    while(True):\n",
    "        playGame()\n",
    "        is_play=pyip.pyinputplus(\"Y or N\")\n",
    "        if is_play==True:\n",
    "            break"
   ]
  },
  {
   "cell_type": "code",
   "execution_count": null,
   "metadata": {},
   "outputs": [],
   "source": [
    "import math\n",
    "import pyinputplus as pyip\n",
    "\n",
    "#會值出值的function\n",
    "def circle_area(radius):\n",
    "    area = math.pi * radius ** 2\n",
    "    return area\n",
    "\n",
    "radius = pyip.inputFloat(\"請輸入半徑:\")\n",
    "print(radius)\n",
    "area = circle_area(radius)\n",
    "print(f\"半徑:{radius:.2f},面積為:{area:.2f}\")"
   ]
  },
  {
   "cell_type": "code",
   "execution_count": null,
   "metadata": {},
   "outputs": [],
   "source": [
    "import math\n",
    "import pyinputplus as pyip\n",
    "\n",
    "#會值出值的function\n",
    "def circle_area(radius:int | float):\n",
    "    area = math.pi * radius ** 2\n",
    "    return area\n",
    "\n",
    "radius = pyip.inputFloat(\"請輸入半徑:\")\n",
    "print(radius)\n",
    "area = circle_area(10)\n",
    "print(f\"半徑:{radius:.2f},面積為:{area:.2f}\")"
   ]
  },
  {
   "cell_type": "code",
   "execution_count": null,
   "metadata": {},
   "outputs": [],
   "source": [
    "import math\n",
    "import pyinputplus as pyip\n",
    "\n",
    "#會值出值的function\n",
    "def circle_area(radius:int | float)->float:\n",
    "    area = math.pi * radius ** 2\n",
    "    return area\n",
    "\n",
    "radius = pyip.inputFloat(\"請輸入半徑:\")\n",
    "print(radius)\n",
    "area = circle_area(10)\n",
    "print(f\"半徑:{radius:.2f},面積為:{area:.2f}\")"
   ]
  },
  {
   "cell_type": "code",
   "execution_count": null,
   "metadata": {},
   "outputs": [],
   "source": [
    "import "
   ]
  }
 ],
 "metadata": {
  "kernelspec": {
   "display_name": "Python 3",
   "language": "python",
   "name": "python3"
  },
  "language_info": {
   "codemirror_mode": {
    "name": "ipython",
    "version": 3
   },
   "file_extension": ".py",
   "mimetype": "text/x-python",
   "name": "python",
   "nbconvert_exporter": "python",
   "pygments_lexer": "ipython3",
   "version": "3.10.13"
  }
 },
 "nbformat": 4,
 "nbformat_minor": 2
}

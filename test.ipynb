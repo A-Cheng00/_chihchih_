{
 "cells": [
  {
   "cell_type": "code",
   "execution_count": 2,
   "metadata": {},
   "outputs": [
    {
     "name": "stdout",
     "output_type": "stream",
     "text": [
      "請輸入購買金額:10000\n",
      "實付金額是：9500.0元\n"
     ]
    }
   ],
   "source": [
    "import pyinputplus as pyip\n",
    "pr=int(pyip.inputInt(f\"請輸入購買金額:\"))\n",
    "print(pr)\n",
    "if pr>=100000:\n",
    "    pr=pr*0.8\n",
    "elif pr>=50000:\n",
    "    pr=pr*0.85\n",
    "elif pr>=30000:\n",
    "    pr=pr*0.9\n",
    "else :\n",
    "    pr=pr*0.95\n",
    "print(f\"實付金額是：{pr:.1f}元\")\n",
    "\n"
   ]
  },
  {
   "cell_type": "code",
   "execution_count": 44,
   "metadata": {},
   "outputs": [
    {
     "name": "stdout",
     "output_type": "stream",
     "text": [
      "請輸入收縮壓:110\n",
      "請輸入舒張壓:110\n",
      "suggestion= 高血壓一期\n"
     ]
    }
   ],
   "source": [
    "import pyinputplus as pyip\n",
    "sbp = pyip.inputInt(\"請輸入收縮壓:\")\n",
    "print(sbp)\n",
    "dbp = pyip.inputInt(\"請輸入舒張壓:\")\n",
    "print(dbp)\n",
    "if sbp<120 and dbp<80:\n",
    "    su=(\"正常\")\n",
    "elif sbp<129 and dbp<80:\n",
    "    su=(\"血壓升高\")\n",
    "elif sbp<139 or dbp<89:\n",
    "    su=(\"高血壓一期\")\n",
    "elif sbp>=140 or dbp>=90:\n",
    "    su=(\"高血壓二期\")\n",
    "if sbp>=130 and dbp<80:\n",
    "    su=(\"單純收縮期\\n高血壓\")\n",
    "\n",
    "print(\"suggestion=\",su)"
   ]
  },
  {
   "cell_type": "code",
   "execution_count": 1,
   "metadata": {},
   "outputs": [
    {
     "name": "stdout",
     "output_type": "stream",
     "text": [
      "請輸入收縮壓:155\n",
      "請輸入舒張壓:182\n",
      "收縮壓:155,舒張壓:182,高血壓第二期\n"
     ]
    }
   ],
   "source": [
    "import tkinter as tk\n",
    "from tkinter import ttk\n",
    "from tkinter import *\n",
    "\n",
    "#定義窗體\n",
    "root = Tk()\n",
    "root.title(\"高血壓判斷\")\n",
    "root.geometry(\"400x300\")\n",
    "\n",
    "#控件_標籤\n",
    "lb1 = Label(root, text='請輸入收縮壓[mmHg]')\n",
    "lb1.place(x=10, y=10, anchor=NW)\n",
    "\n",
    "lb2 = Label(root, text='請輸入舒張壓[mmHg]')\n",
    "lb2.place(x=10, y=40, anchor=NW)\n",
    "\n",
    "#控件_輸入文字框 [收縮壓]\n",
    "#entry_1 = Entry(width=30, font=(\"Arial\", 12, \"bold\"),  bg=\"white\", fg=\"black\", state=NORMAL)\n",
    "entry_1 = Entry(width=30, state=NORMAL)\n",
    "entry_1.insert(END, string=\"\")\n",
    "entry_1.place(x=150, y=10, anchor=NW)\n",
    "\n",
    "#控件_輸入文字框 [舒張壓]\n",
    "#entry_2 = Entry(width=30, font=(\"Arial\", 12, \"bold\"),  bg=\"white\", fg=\"black\", state=NORMAL)\n",
    "entry_2 = Entry(width=30, state=NORMAL)\n",
    "entry_2.insert(END, string=\"\")\n",
    "entry_2.place(x=150, y=40, anchor=NW)\n",
    "\n",
    "#按紐 Clicked 事件\n",
    "def btn_1_clicked():\n",
    "   nSBP = int (entry_1.get()) #收縮壓\n",
    "   nDBP = int (entry_2.get()) #舒張壓\n",
    "   str_1=\"\"\n",
    "   if ( nSBP< 120) and ( nDBP<80):\n",
    "     str_1=\"您的血壓分類:\" + \"正常\"\n",
    "   elif (nSBP>=120 and nSBP<=129) and (nDBP <80):\n",
    "     str_1=\"您的血壓分類:\" + \"血壓升高\"\n",
    "   elif (nSBP>=130 and nSBP<=139) and (nDBP >= 80 and nDBP <= 89 ):\n",
    "     str_1=\"您的血壓分類:\" + \"血壓第一期\"\n",
    "   elif (nSBP >= 140) or (nDBP >= 90 ):\n",
    "     str_1=\"您的血壓分類:\" + \"血壓第二期\"\n",
    "   elif (nSBP >= 130) or (nDBP < 80 ):\n",
    "     str_1=\"您的血壓分類:\" + \"單純收縮期高壓\"  \n",
    "   else:\n",
    "     str_1=\"超出範圍,系統無法判定\"\n",
    "   lb4 = Label(root, text=str_1)\n",
    "   lb4.place(x=10, y=120, anchor=NW)\n",
    "\n",
    "#控件_按紐\n",
    "btn_1 = Button(text=\" 高血壓判斷 \",  command=btn_1_clicked)\n",
    "btn_1.place(x=300, y=160, anchor=NW)\n",
    "\n",
    "root.mainloop()"
   ]
  },
  {
   "cell_type": "code",
   "execution_count": 6,
   "metadata": {},
   "outputs": [
    {
     "name": "stdout",
     "output_type": "stream",
     "text": [
      "總和=5050\n"
     ]
    }
   ],
   "source": [
    "val=0\n",
    "for i in range(1,101):\n",
    "    val+=i\n",
    "\n",
    "print(f\"總和={val}\")\n"
   ]
  },
  {
   "cell_type": "code",
   "execution_count": null,
   "metadata": {},
   "outputs": [],
   "source": [
    "for i in range(1,10)\n",
    "    print (i)\n",
    "    for j in range(2,32,3)\n",
    "    print(j)"
   ]
  },
  {
   "cell_type": "code",
   "execution_count": 3,
   "metadata": {},
   "outputs": [
    {
     "name": "stdout",
     "output_type": "stream",
     "text": [
      "1*1=1  1*2=2  1*3=3  1*4=4  1*5=5  1*6=6  1*7=7  1*8=8  1*9=9  2*1=2  2*2=4  2*3=6  2*4=8  2*5=10  2*6=12  2*7=14  2*8=16  2*9=18  3*1=3  3*2=6  3*3=9  3*4=12  3*5=15  3*6=18  3*7=21  3*8=24  3*9=27  4*1=4  4*2=8  4*3=12  4*4=16  4*5=20  4*6=24  4*7=28  4*8=32  4*9=36  5*1=5  5*2=10  5*3=15  5*4=20  5*5=25  5*6=30  5*7=35  5*8=40  5*9=45  6*1=6  6*2=12  6*3=18  6*4=24  6*5=30  6*6=36  6*7=42  6*8=48  6*9=54  7*1=7  7*2=14  7*3=21  7*4=28  7*5=35  7*6=42  7*7=49  7*8=56  7*9=63  8*1=8  8*2=16  8*3=24  8*4=32  8*5=40  8*6=48  8*7=56  8*8=64  8*9=72  9*1=9  9*2=18  9*3=27  9*4=36  9*5=45  9*6=54  9*7=63  9*8=72  9*9=81  \n"
     ]
    }
   ],
   "source": [
    "for i in range(1,10):\n",
    "   \n",
    "    for j in range(1,10):\n",
    "        print(f\"{i}*{j}={i*j}\",end=\"  \")\n",
    "print()"
   ]
  },
  {
   "cell_type": "code",
   "execution_count": 4,
   "metadata": {},
   "outputs": [
    {
     "name": "stdout",
     "output_type": "stream",
     "text": [
      "恭喜已經存夠了,共存了0個月,總共:0元\n"
     ]
    }
   ],
   "source": [
    "import pyinputplus as pyip\n",
    "\n",
    "deposit=0\n",
    "num=0\n",
    "while deposit>30000:\n",
    "    num+=1\n",
    "    month_value=pyip.inputInt(f\"{num}月份的存款:\")\n",
    "    print(month_value)\n",
    "    deposit +=month_value\n",
    "\n",
    "print(f\"恭喜已經存夠了,共存了{num}個月,總共:{deposit}元\")"
   ]
  },
  {
   "cell_type": "code",
   "execution_count": 7,
   "metadata": {},
   "outputs": [
    {
     "name": "stdout",
     "output_type": "stream",
     "text": [
      "請輸入學生成績:100\n",
      "請輸入學生成績:100\n",
      "請輸入學生成績:100\n",
      "請輸入學生成績:-85\n",
      "學生總分:300\n",
      "平均:100.0\n"
     ]
    }
   ],
   "source": [
    "import pyinputplus as pyip\n",
    "\n",
    "\n",
    "sum=0\n",
    "num=0\n",
    "while (True):\n",
    "    inputvalue=pyip.inputInt(f\"請輸入學生成績:\")\n",
    "    print(inputvalue)\n",
    "    if inputvalue<0:\n",
    "        break\n",
    "    num+=1\n",
    "    sum+=inputvalue\n",
    "\n",
    "print(f\"學生總分:{sum}\\n平均:{sum/num}\")"
   ]
  },
  {
   "cell_type": "code",
   "execution_count": null,
   "metadata": {},
   "outputs": [],
   "source": [
    "#顯示:\n",
    "#奇數輸出平方\n",
    "#偶數不做任何動作\n",
    "#'q'要離開\n",
    "while(True):\n",
    "    value = input(\"請輸入整數,輸入[q]離開:\")\n",
    "    try:\n",
    "        if value == 'q':\n",
    "            break\n",
    "    except:\n",
    "        print('請重新輸入')\n",
    "        continue\n",
    "\n",
    "    valueInt = int(value)\n",
    "    if (valueInt % 2) == 1:\n",
    "        print(valueInt ** 2)\n",
    "\n",
    "print(\"應用程式結束\")"
   ]
  },
  {
   "cell_type": "code",
   "execution_count": 9,
   "metadata": {},
   "outputs": [
    {
     "data": {
      "text/plain": [
       "91"
      ]
     },
     "execution_count": 9,
     "metadata": {},
     "output_type": "execute_result"
    }
   ],
   "source": [
    "import random \n",
    "min=1\n",
    "max=100\n",
    "randnum=random.randint(min,max)\n",
    "randnum\n",
    "\n"
   ]
  },
  {
   "cell_type": "code",
   "execution_count": null,
   "metadata": {},
   "outputs": [],
   "source": [
    "import random\n",
    "import pyinputplus as pyip\n",
    "\n",
    "min = 1\n",
    "max = 100\n",
    "count = 0\n",
    "randomNum = random.randint(min,max)\n",
    "\n",
    "print(\"===========猜數字遊戲=============\")\n",
    "while True:\n",
    "    keyin = pyip.inputInt(f\"猜數字範圍{min}~{max}:\",min=min,max=max)\n",
    "    print(keyin)\n",
    "    count += 1\n",
    "    if(keyin == randomNum):\n",
    "        print(f\"賓果!猜對了, 答案是:{randomNum}\")\n",
    "        print(f\"您共猜了:{count}次\")\n",
    "        break\n",
    "    elif keyin > randomNum:\n",
    "        print(\"再小一點\")\n",
    "        max = keyin - 1\n",
    "    elif keyin < randomNum:\n",
    "        print(\"再大一點\")\n",
    "        min = keyin + 1\n",
    "    print(f\"您已經猜了{count}次\")\n",
    "\n",
    "print(\"Game Over!\")"
   ]
  }
 ],
 "metadata": {
  "kernelspec": {
   "display_name": "Python 3",
   "language": "python",
   "name": "python3"
  },
  "language_info": {
   "codemirror_mode": {
    "name": "ipython",
    "version": 3
   },
   "file_extension": ".py",
   "mimetype": "text/x-python",
   "name": "python",
   "nbconvert_exporter": "python",
   "pygments_lexer": "ipython3",
   "version": "3.10.13"
  }
 },
 "nbformat": 4,
 "nbformat_minor": 2
}

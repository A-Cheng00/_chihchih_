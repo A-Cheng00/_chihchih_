{
 "cells": [
  {
   "cell_type": "code",
   "execution_count": 11,
   "metadata": {},
   "outputs": [
    {
     "name": "stdout",
     "output_type": "stream",
     "text": [
      "加\n"
     ]
    }
   ],
   "source": [
    "\n",
    "import pyinputplus as pyip\n",
    "is_yes=pyip.inputYesNo=(\"是否加分?y/n:\")\n",
    "if not (is_yes=='y'):\n",
    "    print(\"加\")\n",
    "\n"
   ]
  },
  {
   "cell_type": "code",
   "execution_count": 6,
   "metadata": {},
   "outputs": [
    {
     "name": "stdout",
     "output_type": "stream",
     "text": [
      "總和=5050\n"
     ]
    }
   ],
   "source": [
    "val=0\n",
    "for i in range(1,101):\n",
    "    val+=i\n",
    "\n",
    "print(f\"總和={val}\")\n"
   ]
  },
  {
   "cell_type": "code",
   "execution_count": null,
   "metadata": {},
   "outputs": [],
   "source": []
  }
 ],
 "metadata": {
  "kernelspec": {
   "display_name": "Python 3",
   "language": "python",
   "name": "python3"
  },
  "language_info": {
   "codemirror_mode": {
    "name": "ipython",
    "version": 3
   },
   "file_extension": ".py",
   "mimetype": "text/x-python",
   "name": "python",
   "nbconvert_exporter": "python",
   "pygments_lexer": "ipython3",
   "version": "3.10.13"
  }
 },
 "nbformat": 4,
 "nbformat_minor": 2
}

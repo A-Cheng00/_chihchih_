{
 "cells": [
  {
   "cell_type": "code",
   "execution_count": 2,
   "metadata": {},
   "outputs": [
    {
     "name": "stdout",
     "output_type": "stream",
     "text": [
      "Hi World\n",
      "1111\n"
     ]
    }
   ],
   "source": [
    "print(\"Hi World\")\n",
    "print(\"1111\")"
   ]
  },
  {
   "cell_type": "code",
   "execution_count": 1,
   "metadata": {},
   "outputs": [
    {
     "data": {
      "text/plain": [
       "700"
      ]
     },
     "execution_count": 1,
     "metadata": {},
     "output_type": "execute_result"
    }
   ],
   "source": [
    "n=100\n",
    "n*=5+2\n",
    "n"
   ]
  },
  {
   "cell_type": "code",
   "execution_count": 6,
   "metadata": {},
   "outputs": [
    {
     "name": "stdout",
     "output_type": "stream",
     "text": [
      "mean= 7\n",
      "std= 1.8257418583505538\n",
      "mean=7\n",
      "std=1.83\n"
     ]
    }
   ],
   "source": [
    "import statistics\n",
    "\n",
    "mean1=statistics.mean([5,6,8,9])\n",
    "std1=statistics.stdev([5,6,8,9])\n",
    "print(\"mean=\",mean1)\n",
    "print(\"std=\",std1)\n",
    "#f form\n",
    "print(f\"mean={mean1}\")\n",
    "print(f\"std={std1:.2f}\")"
   ]
  },
  {
   "cell_type": "code",
   "execution_count": 6,
   "metadata": {},
   "outputs": [
    {
     "name": "stdout",
     "output_type": "stream",
     "text": [
      "age=21\n",
      "This is true block\n",
      "adult\n",
      "end\n"
     ]
    }
   ],
   "source": [
    "age =21\n",
    "print(f'age={age}')\n",
    "if age>=18:\n",
    "    print(\"This is true block\")\n",
    "    print(\"adult\")\n",
    "else:\n",
    "    print(\"This is false block\")\n",
    "    print(\"non-adult\")\n",
    "\n",
    "print(\"end\")"
   ]
  },
  {
   "cell_type": "code",
   "execution_count": 19,
   "metadata": {},
   "outputs": [
    {
     "ename": "ValueError",
     "evalue": "invalid literal for int() with base 10: 'rr'",
     "output_type": "error",
     "traceback": [
      "\u001b[0;31m---------------------------------------------------------------------------\u001b[0m",
      "\u001b[0;31mValueError\u001b[0m                                Traceback (most recent call last)",
      "\u001b[1;32m/workspaces/_chihchih_/lesson3_1.ipynb Cell 5\u001b[0m line \u001b[0;36m8\n\u001b[1;32m      <a href='vscode-notebook-cell://codespaces%2Bominous-bassoon-g445wqpww5pp2p4q5/workspaces/_chihchih_/lesson3_1.ipynb#W4sdnNjb2RlLXJlbW90ZQ%3D%3D?line=0'>1</a>\u001b[0m \u001b[39m#學生總分為300\u001b[39;00m\n\u001b[1;32m      <a href='vscode-notebook-cell://codespaces%2Bominous-bassoon-g445wqpww5pp2p4q5/workspaces/_chihchih_/lesson3_1.ipynb#W4sdnNjb2RlLXJlbW90ZQ%3D%3D?line=1'>2</a>\u001b[0m \u001b[39m#有些學生可以加分5%\u001b[39;00m\n\u001b[1;32m      <a href='vscode-notebook-cell://codespaces%2Bominous-bassoon-g445wqpww5pp2p4q5/workspaces/_chihchih_/lesson3_1.ipynb#W4sdnNjb2RlLXJlbW90ZQ%3D%3D?line=2'>3</a>\u001b[0m \u001b[39m#如果加分完超過300,就以300分為準\u001b[39;00m\n\u001b[1;32m      <a href='vscode-notebook-cell://codespaces%2Bominous-bassoon-g445wqpww5pp2p4q5/workspaces/_chihchih_/lesson3_1.ipynb#W4sdnNjb2RlLXJlbW90ZQ%3D%3D?line=3'>4</a>\u001b[0m \u001b[39m#輸入超過300分,出現警告\u001b[39;00m\n\u001b[1;32m      <a href='vscode-notebook-cell://codespaces%2Bominous-bassoon-g445wqpww5pp2p4q5/workspaces/_chihchih_/lesson3_1.ipynb#W4sdnNjb2RlLXJlbW90ZQ%3D%3D?line=4'>5</a>\u001b[0m \u001b[39m#巢狀判斷\u001b[39;00m\n\u001b[0;32m----> <a href='vscode-notebook-cell://codespaces%2Bominous-bassoon-g445wqpww5pp2p4q5/workspaces/_chihchih_/lesson3_1.ipynb#W4sdnNjb2RlLXJlbW90ZQ%3D%3D?line=7'>8</a>\u001b[0m scores\u001b[39m=\u001b[39m \u001b[39mint\u001b[39;49m(\u001b[39minput\u001b[39;49m(\u001b[39m\"\u001b[39;49m\u001b[39menter the score\u001b[39;49m\u001b[39m\"\u001b[39;49m))\n\u001b[1;32m      <a href='vscode-notebook-cell://codespaces%2Bominous-bassoon-g445wqpww5pp2p4q5/workspaces/_chihchih_/lesson3_1.ipynb#W4sdnNjb2RlLXJlbW90ZQ%3D%3D?line=8'>9</a>\u001b[0m is_add\u001b[39m=\u001b[39m \u001b[39minput\u001b[39m(\u001b[39m\"\u001b[39m\u001b[39m學生是否符合加分條件?(y,n)\u001b[39m\u001b[39m\"\u001b[39m)\n\u001b[1;32m     <a href='vscode-notebook-cell://codespaces%2Bominous-bassoon-g445wqpww5pp2p4q5/workspaces/_chihchih_/lesson3_1.ipynb#W4sdnNjb2RlLXJlbW90ZQ%3D%3D?line=9'>10</a>\u001b[0m \u001b[39mif\u001b[39;00m scores\u001b[39m<\u001b[39m\u001b[39m=\u001b[39m \u001b[39m300\u001b[39m:\n",
      "\u001b[0;31mValueError\u001b[0m: invalid literal for int() with base 10: 'rr'"
     ]
    }
   ],
   "source": [
    "#學生總分為300\n",
    "#有些學生可以加分5%\n",
    "#如果加分完超過300,就以300分為準\n",
    "#輸入超過300分,出現警告\n",
    "#巢狀判斷\n",
    "\n",
    "\n",
    "scores= int(input(\"enter the score\"))\n",
    "is_add= input(\"學生是否符合加分條件?(y,n)\")\n",
    "if scores<= 300:\n",
    "    if is_add==\"y\":\n",
    "        scores*=1.05\n",
    "    print(f\"The score is {scores}\")\n",
    "else:\n",
    "    print(\"error\")"
   ]
  },
  {
   "cell_type": "code",
   "execution_count": 18,
   "metadata": {},
   "outputs": [
    {
     "name": "stdout",
     "output_type": "stream",
     "text": [
      "total=568\n"
     ]
    }
   ],
   "source": [
    "try:\n",
    "        money= int(input('enter the number'))\n",
    "        print(f\"total={money}\")\n",
    "except:\n",
    "        print(\"error\")"
   ]
  },
  {
   "cell_type": "code",
   "execution_count": 16,
   "metadata": {},
   "outputs": [
    {
     "name": "stdout",
     "output_type": "stream",
     "text": [
      "輸入錯誤hahahahahahahahhahahinvalid literal for int() with base 10: '333rf'\n"
     ]
    }
   ],
   "source": [
    "#學生總分為300\n",
    "#有些學生可以加分5%\n",
    "#如果加分完超過300,就以300分為準\n",
    "#輸入超過300分,出現警告\n",
    "#巢狀判斷\n",
    "\n",
    "try:\n",
    "    scores= int(input(\"enter the score\"))  \n",
    "    if scores<= 300:\n",
    "        is_add= input(\"學生是否符合加分條件?(y,n)\")\n",
    "        if is_add==\"y\":\n",
    "            scores*=1.05\n",
    "            if scores> 300:\n",
    "                scores= 300\n",
    "        print(f\"The score is {scores}\")\n",
    "    else:\n",
    "        print(\"reenter\")\n",
    "\n",
    "\n",
    "except ValueError as err:\n",
    "    print(f\"輸入錯誤hahahahahahahahhahah{err}\")\n",
    "except:\n",
    "    print(\"error\")"
   ]
  },
  {
   "cell_type": "code",
   "execution_count": 15,
   "metadata": {},
   "outputs": [
    {
     "data": {
      "text/plain": [
       "6"
      ]
     },
     "execution_count": 15,
     "metadata": {},
     "output_type": "execute_result"
    }
   ],
   "source": [
    "import pyinputplus as pyip\n",
    "\n",
    "result=pyip.inputNum(min=4, max=6)\n",
    "result"
   ]
  }
 ],
 "metadata": {
  "kernelspec": {
   "display_name": "Python 3",
   "language": "python",
   "name": "python3"
  },
  "language_info": {
   "codemirror_mode": {
    "name": "ipython",
    "version": 3
   },
   "file_extension": ".py",
   "mimetype": "text/x-python",
   "name": "python",
   "nbconvert_exporter": "python",
   "pygments_lexer": "ipython3",
   "version": "3.10.13"
  }
 },
 "nbformat": 4,
 "nbformat_minor": 2
}
